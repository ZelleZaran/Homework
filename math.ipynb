{
 "cells": [
  {
   "cell_type": "code",
   "execution_count": 10,
   "metadata": {},
   "outputs": [
    {
     "name": "stdout",
     "output_type": "stream",
     "text": [
      "1 1 1\n",
      "1.73\n"
     ]
    }
   ],
   "source": [
    "# Программа, считающая длинну вектора по координатам.\n",
    "import math\n",
    "\n",
    "length = 0\n",
    "vector = [int(i) for i in input().split()]\n",
    "for i in vector:\n",
    "    length += i ** 2\n",
    "print(round(math.sqrt(length), 2))  "
   ]
  },
  {
   "cell_type": "code",
   "execution_count": 17,
   "metadata": {},
   "outputs": [
    {
     "name": "stdout",
     "output_type": "stream",
     "text": [
      "[10, 10, 0]\n"
     ]
    }
   ],
   "source": [
    "#Найти сумму векторов a и b\n",
    "import itertools\n",
    "a = [10, 10, 10]\n",
    "b = [0, 0, -10]\n",
    "c = [x+y for x, y in itertools.zip_longest(a, b, fillvalue=0)]\n",
    "print(c)"
   ]
  },
  {
   "cell_type": "code",
   "execution_count": null,
   "metadata": {},
   "outputs": [],
   "source": []
  }
 ],
 "metadata": {
  "kernelspec": {
   "display_name": "Python 3",
   "language": "python",
   "name": "python3"
  },
  "language_info": {
   "codemirror_mode": {
    "name": "ipython",
    "version": 3
   },
   "file_extension": ".py",
   "mimetype": "text/x-python",
   "name": "python",
   "nbconvert_exporter": "python",
   "pygments_lexer": "ipython3",
   "version": "3.7.4"
  }
 },
 "nbformat": 4,
 "nbformat_minor": 2
}
